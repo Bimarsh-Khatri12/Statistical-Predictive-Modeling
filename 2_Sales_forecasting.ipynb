{
 "cells": [
  {
   "cell_type": "markdown",
   "id": "5c86a3dc-960c-4858-afad-bc77735fc31e",
   "metadata": {
    "jp-MarkdownHeadingCollapsed": true
   },
   "source": [
    "## Predictive model for forecasting sales\n",
    "This proejct involves building a machine learning model to predict a target variable bsaed on a set of input features. It showcase a basic machine learning workflow. The primary goal here is to learn how well the model performs in making prediction"
   ]
  },
  {
   "cell_type": "code",
   "execution_count": 6,
   "id": "f36e15cb-3655-4212-844a-32674319c10a",
   "metadata": {
    "scrolled": true
   },
   "outputs": [
    {
     "name": "stdout",
     "output_type": "stream",
     "text": [
      "Requirement already satisfied: seaborn in c:\\users\\bimarsh\\anaconda3\\lib\\site-packages (0.12.2)\n",
      "Requirement already satisfied: numpy!=1.24.0,>=1.17 in c:\\users\\bimarsh\\anaconda3\\lib\\site-packages (from seaborn) (1.26.4)\n",
      "Requirement already satisfied: pandas>=0.25 in c:\\users\\bimarsh\\anaconda3\\lib\\site-packages (from seaborn) (2.1.4)\n",
      "Requirement already satisfied: matplotlib!=3.6.1,>=3.1 in c:\\users\\bimarsh\\anaconda3\\lib\\site-packages (from seaborn) (3.8.0)\n",
      "Requirement already satisfied: contourpy>=1.0.1 in c:\\users\\bimarsh\\anaconda3\\lib\\site-packages (from matplotlib!=3.6.1,>=3.1->seaborn) (1.2.0)\n",
      "Requirement already satisfied: cycler>=0.10 in c:\\users\\bimarsh\\anaconda3\\lib\\site-packages (from matplotlib!=3.6.1,>=3.1->seaborn) (0.11.0)\n",
      "Requirement already satisfied: fonttools>=4.22.0 in c:\\users\\bimarsh\\anaconda3\\lib\\site-packages (from matplotlib!=3.6.1,>=3.1->seaborn) (4.25.0)\n",
      "Requirement already satisfied: kiwisolver>=1.0.1 in c:\\users\\bimarsh\\anaconda3\\lib\\site-packages (from matplotlib!=3.6.1,>=3.1->seaborn) (1.4.4)\n",
      "Requirement already satisfied: packaging>=20.0 in c:\\users\\bimarsh\\anaconda3\\lib\\site-packages (from matplotlib!=3.6.1,>=3.1->seaborn) (23.1)\n",
      "Requirement already satisfied: pillow>=6.2.0 in c:\\users\\bimarsh\\anaconda3\\lib\\site-packages (from matplotlib!=3.6.1,>=3.1->seaborn) (10.2.0)\n",
      "Requirement already satisfied: pyparsing>=2.3.1 in c:\\users\\bimarsh\\anaconda3\\lib\\site-packages (from matplotlib!=3.6.1,>=3.1->seaborn) (3.0.9)\n",
      "Requirement already satisfied: python-dateutil>=2.7 in c:\\users\\bimarsh\\anaconda3\\lib\\site-packages (from matplotlib!=3.6.1,>=3.1->seaborn) (2.8.2)\n",
      "Requirement already satisfied: pytz>=2020.1 in c:\\users\\bimarsh\\anaconda3\\lib\\site-packages (from pandas>=0.25->seaborn) (2023.3.post1)\n",
      "Requirement already satisfied: tzdata>=2022.1 in c:\\users\\bimarsh\\anaconda3\\lib\\site-packages (from pandas>=0.25->seaborn) (2023.3)\n",
      "Requirement already satisfied: six>=1.5 in c:\\users\\bimarsh\\anaconda3\\lib\\site-packages (from python-dateutil>=2.7->matplotlib!=3.6.1,>=3.1->seaborn) (1.16.0)\n"
     ]
    }
   ],
   "source": [
    "!pip install seaborn"
   ]
  },
  {
   "cell_type": "code",
   "execution_count": 7,
   "id": "1e6c0e27-8ead-4191-a668-235ecf9af1e7",
   "metadata": {},
   "outputs": [],
   "source": [
    "import numpy as np\n",
    "import pandas as pd\n",
    "import matplotlib.pyplot as plt\n",
    "from sklearn.model_selection import train_test_split\n",
    "from sklearn.linear_model import LinearRegression\n",
    "from sklearn import metrics\n",
    "import seaborn as sb\n",
    "# from sklearn.impute import SimpleImputer"
   ]
  },
  {
   "cell_type": "markdown",
   "id": "dbcbffb6-a1e2-4fee-9465-49003e1e4c68",
   "metadata": {
    "jp-MarkdownHeadingCollapsed": true
   },
   "source": [
    "## Loading data\n",
    "Here, the dataset is being loaded from a CSV file (sales.csv). Then, the features  and target are assigned. In this case, the target represents the variable we want to predict (such as sales categories).\n",
    "\n",
    "**Note: The dataset sales.csv is used from kaggle website.**|"
   ]
  },
  {
   "cell_type": "code",
   "execution_count": 8,
   "id": "24d6b345-ef0b-40f9-8880-763c16d3019c",
   "metadata": {},
   "outputs": [],
   "source": [
    "dataset = pd.read_csv(\"sales.csv\")"
   ]
  },
  {
   "cell_type": "code",
   "execution_count": 9,
   "id": "4d3d4362-3467-43b2-b906-00c94c113645",
   "metadata": {},
   "outputs": [
    {
     "name": "stdout",
     "output_type": "stream",
     "text": [
      "<class 'pandas.core.frame.DataFrame'>\n",
      "RangeIndex: 200 entries, 0 to 199\n",
      "Data columns (total 5 columns):\n",
      " #   Column      Non-Null Count  Dtype  \n",
      "---  ------      --------------  -----  \n",
      " 0   Unnamed: 0  200 non-null    int64  \n",
      " 1   TV          200 non-null    float64\n",
      " 2   Radio       200 non-null    float64\n",
      " 3   Newspaper   200 non-null    float64\n",
      " 4   Sales       200 non-null    float64\n",
      "dtypes: float64(4), int64(1)\n",
      "memory usage: 7.9 KB\n"
     ]
    }
   ],
   "source": [
    "dataset.info()"
   ]
  },
  {
   "cell_type": "code",
   "execution_count": 10,
   "id": "41a9b577-5b9b-48f7-b6a6-6fad3a169a55",
   "metadata": {},
   "outputs": [
    {
     "data": {
      "text/html": [
       "<div>\n",
       "<style scoped>\n",
       "    .dataframe tbody tr th:only-of-type {\n",
       "        vertical-align: middle;\n",
       "    }\n",
       "\n",
       "    .dataframe tbody tr th {\n",
       "        vertical-align: top;\n",
       "    }\n",
       "\n",
       "    .dataframe thead th {\n",
       "        text-align: right;\n",
       "    }\n",
       "</style>\n",
       "<table border=\"1\" class=\"dataframe\">\n",
       "  <thead>\n",
       "    <tr style=\"text-align: right;\">\n",
       "      <th></th>\n",
       "      <th>Unnamed: 0</th>\n",
       "      <th>TV</th>\n",
       "      <th>Radio</th>\n",
       "      <th>Newspaper</th>\n",
       "      <th>Sales</th>\n",
       "    </tr>\n",
       "  </thead>\n",
       "  <tbody>\n",
       "    <tr>\n",
       "      <th>0</th>\n",
       "      <td>1</td>\n",
       "      <td>230.1</td>\n",
       "      <td>37.8</td>\n",
       "      <td>69.2</td>\n",
       "      <td>22.1</td>\n",
       "    </tr>\n",
       "    <tr>\n",
       "      <th>1</th>\n",
       "      <td>2</td>\n",
       "      <td>44.5</td>\n",
       "      <td>39.3</td>\n",
       "      <td>45.1</td>\n",
       "      <td>10.4</td>\n",
       "    </tr>\n",
       "    <tr>\n",
       "      <th>2</th>\n",
       "      <td>3</td>\n",
       "      <td>17.2</td>\n",
       "      <td>45.9</td>\n",
       "      <td>69.3</td>\n",
       "      <td>9.3</td>\n",
       "    </tr>\n",
       "    <tr>\n",
       "      <th>3</th>\n",
       "      <td>4</td>\n",
       "      <td>151.5</td>\n",
       "      <td>41.3</td>\n",
       "      <td>58.5</td>\n",
       "      <td>18.5</td>\n",
       "    </tr>\n",
       "    <tr>\n",
       "      <th>4</th>\n",
       "      <td>5</td>\n",
       "      <td>180.8</td>\n",
       "      <td>10.8</td>\n",
       "      <td>58.4</td>\n",
       "      <td>12.9</td>\n",
       "    </tr>\n",
       "    <tr>\n",
       "      <th>...</th>\n",
       "      <td>...</td>\n",
       "      <td>...</td>\n",
       "      <td>...</td>\n",
       "      <td>...</td>\n",
       "      <td>...</td>\n",
       "    </tr>\n",
       "    <tr>\n",
       "      <th>195</th>\n",
       "      <td>196</td>\n",
       "      <td>38.2</td>\n",
       "      <td>3.7</td>\n",
       "      <td>13.8</td>\n",
       "      <td>7.6</td>\n",
       "    </tr>\n",
       "    <tr>\n",
       "      <th>196</th>\n",
       "      <td>197</td>\n",
       "      <td>94.2</td>\n",
       "      <td>4.9</td>\n",
       "      <td>8.1</td>\n",
       "      <td>9.7</td>\n",
       "    </tr>\n",
       "    <tr>\n",
       "      <th>197</th>\n",
       "      <td>198</td>\n",
       "      <td>177.0</td>\n",
       "      <td>9.3</td>\n",
       "      <td>6.4</td>\n",
       "      <td>12.8</td>\n",
       "    </tr>\n",
       "    <tr>\n",
       "      <th>198</th>\n",
       "      <td>199</td>\n",
       "      <td>283.6</td>\n",
       "      <td>42.0</td>\n",
       "      <td>66.2</td>\n",
       "      <td>25.5</td>\n",
       "    </tr>\n",
       "    <tr>\n",
       "      <th>199</th>\n",
       "      <td>200</td>\n",
       "      <td>232.1</td>\n",
       "      <td>8.6</td>\n",
       "      <td>8.7</td>\n",
       "      <td>13.4</td>\n",
       "    </tr>\n",
       "  </tbody>\n",
       "</table>\n",
       "<p>200 rows × 5 columns</p>\n",
       "</div>"
      ],
      "text/plain": [
       "     Unnamed: 0     TV  Radio  Newspaper  Sales\n",
       "0             1  230.1   37.8       69.2   22.1\n",
       "1             2   44.5   39.3       45.1   10.4\n",
       "2             3   17.2   45.9       69.3    9.3\n",
       "3             4  151.5   41.3       58.5   18.5\n",
       "4             5  180.8   10.8       58.4   12.9\n",
       "..          ...    ...    ...        ...    ...\n",
       "195         196   38.2    3.7       13.8    7.6\n",
       "196         197   94.2    4.9        8.1    9.7\n",
       "197         198  177.0    9.3        6.4   12.8\n",
       "198         199  283.6   42.0       66.2   25.5\n",
       "199         200  232.1    8.6        8.7   13.4\n",
       "\n",
       "[200 rows x 5 columns]"
      ]
     },
     "execution_count": 10,
     "metadata": {},
     "output_type": "execute_result"
    }
   ],
   "source": [
    "dataset"
   ]
  },
  {
   "cell_type": "code",
   "execution_count": 11,
   "id": "84fdc911-0486-4953-b6a2-7ff939f1e5f0",
   "metadata": {},
   "outputs": [
    {
     "data": {
      "text/plain": [
       "(200, 5)"
      ]
     },
     "execution_count": 11,
     "metadata": {},
     "output_type": "execute_result"
    }
   ],
   "source": [
    "dataset.shape"
   ]
  },
  {
   "cell_type": "code",
   "execution_count": 12,
   "id": "6a3e7530-1111-4efa-b39f-acd1844b9564",
   "metadata": {},
   "outputs": [
    {
     "data": {
      "text/html": [
       "<div>\n",
       "<style scoped>\n",
       "    .dataframe tbody tr th:only-of-type {\n",
       "        vertical-align: middle;\n",
       "    }\n",
       "\n",
       "    .dataframe tbody tr th {\n",
       "        vertical-align: top;\n",
       "    }\n",
       "\n",
       "    .dataframe thead th {\n",
       "        text-align: right;\n",
       "    }\n",
       "</style>\n",
       "<table border=\"1\" class=\"dataframe\">\n",
       "  <thead>\n",
       "    <tr style=\"text-align: right;\">\n",
       "      <th></th>\n",
       "      <th>Unnamed: 0</th>\n",
       "      <th>TV</th>\n",
       "      <th>Radio</th>\n",
       "      <th>Newspaper</th>\n",
       "      <th>Sales</th>\n",
       "    </tr>\n",
       "  </thead>\n",
       "  <tbody>\n",
       "    <tr>\n",
       "      <th>count</th>\n",
       "      <td>200.000000</td>\n",
       "      <td>200.000000</td>\n",
       "      <td>200.000000</td>\n",
       "      <td>200.000000</td>\n",
       "      <td>200.000000</td>\n",
       "    </tr>\n",
       "    <tr>\n",
       "      <th>mean</th>\n",
       "      <td>100.500000</td>\n",
       "      <td>147.042500</td>\n",
       "      <td>23.264000</td>\n",
       "      <td>30.554000</td>\n",
       "      <td>14.022500</td>\n",
       "    </tr>\n",
       "    <tr>\n",
       "      <th>std</th>\n",
       "      <td>57.879185</td>\n",
       "      <td>85.854236</td>\n",
       "      <td>14.846809</td>\n",
       "      <td>21.778621</td>\n",
       "      <td>5.217457</td>\n",
       "    </tr>\n",
       "    <tr>\n",
       "      <th>min</th>\n",
       "      <td>1.000000</td>\n",
       "      <td>0.700000</td>\n",
       "      <td>0.000000</td>\n",
       "      <td>0.300000</td>\n",
       "      <td>1.600000</td>\n",
       "    </tr>\n",
       "    <tr>\n",
       "      <th>25%</th>\n",
       "      <td>50.750000</td>\n",
       "      <td>74.375000</td>\n",
       "      <td>9.975000</td>\n",
       "      <td>12.750000</td>\n",
       "      <td>10.375000</td>\n",
       "    </tr>\n",
       "    <tr>\n",
       "      <th>50%</th>\n",
       "      <td>100.500000</td>\n",
       "      <td>149.750000</td>\n",
       "      <td>22.900000</td>\n",
       "      <td>25.750000</td>\n",
       "      <td>12.900000</td>\n",
       "    </tr>\n",
       "    <tr>\n",
       "      <th>75%</th>\n",
       "      <td>150.250000</td>\n",
       "      <td>218.825000</td>\n",
       "      <td>36.525000</td>\n",
       "      <td>45.100000</td>\n",
       "      <td>17.400000</td>\n",
       "    </tr>\n",
       "    <tr>\n",
       "      <th>max</th>\n",
       "      <td>200.000000</td>\n",
       "      <td>296.400000</td>\n",
       "      <td>49.600000</td>\n",
       "      <td>114.000000</td>\n",
       "      <td>27.000000</td>\n",
       "    </tr>\n",
       "  </tbody>\n",
       "</table>\n",
       "</div>"
      ],
      "text/plain": [
       "       Unnamed: 0          TV       Radio   Newspaper       Sales\n",
       "count  200.000000  200.000000  200.000000  200.000000  200.000000\n",
       "mean   100.500000  147.042500   23.264000   30.554000   14.022500\n",
       "std     57.879185   85.854236   14.846809   21.778621    5.217457\n",
       "min      1.000000    0.700000    0.000000    0.300000    1.600000\n",
       "25%     50.750000   74.375000    9.975000   12.750000   10.375000\n",
       "50%    100.500000  149.750000   22.900000   25.750000   12.900000\n",
       "75%    150.250000  218.825000   36.525000   45.100000   17.400000\n",
       "max    200.000000  296.400000   49.600000  114.000000   27.000000"
      ]
     },
     "execution_count": 12,
     "metadata": {},
     "output_type": "execute_result"
    }
   ],
   "source": [
    "dataset.describe()"
   ]
  },
  {
   "cell_type": "code",
   "execution_count": 13,
   "id": "5267fa16-3516-4844-8a44-f3a2a4696345",
   "metadata": {},
   "outputs": [
    {
     "data": {
      "image/png": "[encoded data removed]",
      "text/plain": [
       "<Figure size 600x400 with 1 Axes>"
      ]
     },
     "metadata": {},
     "output_type": "display_data"
    }
   ],
   "source": [
    "plt.figure(figsize=(6,4))\n",
    "sb.regplot(x=dataset['TV'], y=dataset['Sales'])\n",
    "plt.title('Sales Prediction: TV Advertising Impact')\n",
    "plt.xlabel('TV Advertising Spend')\n",
    "plt.ylabel('Sales')\n",
    "plt.show()"
   ]
  },
  {
   "cell_type": "code",
   "execution_count": 14,
   "id": "2bb4ee77-0e9a-4875-8cf7-b54c049830ff",
   "metadata": {},
   "outputs": [
    {
     "data": {
      "image/png": "[encoded data removed]",
      "text/plain": [
       "<Figure size 600x400 with 1 Axes>"
      ]
     },
     "metadata": {},
     "output_type": "display_data"
    }
   ],
   "source": [
    "plt.figure(figsize=(6,4))\n",
    "sb.regplot(x=dataset['Radio'], y=dataset['Sales'])\n",
    "plt.title('Sales Prediction: Radio Advertising Impact')\n",
    "plt.xlabel('Radio Advertising Spend')\n",
    "plt.ylabel('Sales')\n",
    "plt.show()"
   ]
  },
  {
   "cell_type": "code",
   "execution_count": 15,
   "id": "3b487c32-dbb2-4986-92a0-5436f1b6aaa7",
   "metadata": {},
   "outputs": [
    {
     "data": {
      "image/png": "[encoded data removed]",
      "text/plain": [
       "<Figure size 600x400 with 1 Axes>"
      ]
     },
     "metadata": {},
     "output_type": "display_data"
    }
   ],
   "source": [
    "plt.figure(figsize=(6,4))\n",
    "sb.regplot(x=dataset['Newspaper'], y=dataset['Sales'])\n",
    "plt.title('Sales Prediction: Newspaper Advertising Impact')\n",
    "plt.xlabel('Newspaper Advertising Spend')\n",
    "plt.ylabel('Sales')\n",
    "plt.show()"
   ]
  },
  {
   "cell_type": "code",
   "execution_count": 16,
   "id": "21611281-5bd9-4407-b330-6c1883dee5db",
   "metadata": {},
   "outputs": [
    {
     "data": {
      "text/html": [
       "<div>\n",
       "<style scoped>\n",
       "    .dataframe tbody tr th:only-of-type {\n",
       "        vertical-align: middle;\n",
       "    }\n",
       "\n",
       "    .dataframe tbody tr th {\n",
       "        vertical-align: top;\n",
       "    }\n",
       "\n",
       "    .dataframe thead th {\n",
       "        text-align: right;\n",
       "    }\n",
       "</style>\n",
       "<table border=\"1\" class=\"dataframe\">\n",
       "  <thead>\n",
       "    <tr style=\"text-align: right;\">\n",
       "      <th></th>\n",
       "      <th>Unnamed: 0</th>\n",
       "      <th>TV</th>\n",
       "      <th>Radio</th>\n",
       "      <th>Newspaper</th>\n",
       "      <th>Sales</th>\n",
       "    </tr>\n",
       "  </thead>\n",
       "  <tbody>\n",
       "    <tr>\n",
       "      <th>0</th>\n",
       "      <td>1</td>\n",
       "      <td>230.1</td>\n",
       "      <td>37.8</td>\n",
       "      <td>69.2</td>\n",
       "      <td>22.1</td>\n",
       "    </tr>\n",
       "    <tr>\n",
       "      <th>1</th>\n",
       "      <td>2</td>\n",
       "      <td>44.5</td>\n",
       "      <td>39.3</td>\n",
       "      <td>45.1</td>\n",
       "      <td>10.4</td>\n",
       "    </tr>\n",
       "    <tr>\n",
       "      <th>2</th>\n",
       "      <td>3</td>\n",
       "      <td>17.2</td>\n",
       "      <td>45.9</td>\n",
       "      <td>69.3</td>\n",
       "      <td>9.3</td>\n",
       "    </tr>\n",
       "    <tr>\n",
       "      <th>3</th>\n",
       "      <td>4</td>\n",
       "      <td>151.5</td>\n",
       "      <td>41.3</td>\n",
       "      <td>58.5</td>\n",
       "      <td>18.5</td>\n",
       "    </tr>\n",
       "    <tr>\n",
       "      <th>4</th>\n",
       "      <td>5</td>\n",
       "      <td>180.8</td>\n",
       "      <td>10.8</td>\n",
       "      <td>58.4</td>\n",
       "      <td>12.9</td>\n",
       "    </tr>\n",
       "    <tr>\n",
       "      <th>...</th>\n",
       "      <td>...</td>\n",
       "      <td>...</td>\n",
       "      <td>...</td>\n",
       "      <td>...</td>\n",
       "      <td>...</td>\n",
       "    </tr>\n",
       "    <tr>\n",
       "      <th>195</th>\n",
       "      <td>196</td>\n",
       "      <td>38.2</td>\n",
       "      <td>3.7</td>\n",
       "      <td>13.8</td>\n",
       "      <td>7.6</td>\n",
       "    </tr>\n",
       "    <tr>\n",
       "      <th>196</th>\n",
       "      <td>197</td>\n",
       "      <td>94.2</td>\n",
       "      <td>4.9</td>\n",
       "      <td>8.1</td>\n",
       "      <td>9.7</td>\n",
       "    </tr>\n",
       "    <tr>\n",
       "      <th>197</th>\n",
       "      <td>198</td>\n",
       "      <td>177.0</td>\n",
       "      <td>9.3</td>\n",
       "      <td>6.4</td>\n",
       "      <td>12.8</td>\n",
       "    </tr>\n",
       "    <tr>\n",
       "      <th>198</th>\n",
       "      <td>199</td>\n",
       "      <td>283.6</td>\n",
       "      <td>42.0</td>\n",
       "      <td>66.2</td>\n",
       "      <td>25.5</td>\n",
       "    </tr>\n",
       "    <tr>\n",
       "      <th>199</th>\n",
       "      <td>200</td>\n",
       "      <td>232.1</td>\n",
       "      <td>8.6</td>\n",
       "      <td>8.7</td>\n",
       "      <td>13.4</td>\n",
       "    </tr>\n",
       "  </tbody>\n",
       "</table>\n",
       "<p>200 rows × 5 columns</p>\n",
       "</div>"
      ],
      "text/plain": [
       "     Unnamed: 0     TV  Radio  Newspaper  Sales\n",
       "0             1  230.1   37.8       69.2   22.1\n",
       "1             2   44.5   39.3       45.1   10.4\n",
       "2             3   17.2   45.9       69.3    9.3\n",
       "3             4  151.5   41.3       58.5   18.5\n",
       "4             5  180.8   10.8       58.4   12.9\n",
       "..          ...    ...    ...        ...    ...\n",
       "195         196   38.2    3.7       13.8    7.6\n",
       "196         197   94.2    4.9        8.1    9.7\n",
       "197         198  177.0    9.3        6.4   12.8\n",
       "198         199  283.6   42.0       66.2   25.5\n",
       "199         200  232.1    8.6        8.7   13.4\n",
       "\n",
       "[200 rows x 5 columns]"
      ]
     },
     "execution_count": 16,
     "metadata": {},
     "output_type": "execute_result"
    }
   ],
   "source": [
    "dataset"
   ]
  },
  {
   "cell_type": "code",
   "execution_count": 17,
   "id": "305441b1-fe47-4581-90c9-057161e1ce31",
   "metadata": {},
   "outputs": [],
   "source": [
    "X = dataset.iloc[:,:-1].values"
   ]
  },
  {
   "cell_type": "code",
   "execution_count": 18,
   "id": "4beec6a5-3f5a-4b38-96b0-b3da10bb80a5",
   "metadata": {},
   "outputs": [
    {
     "data": {
      "text/plain": [
       "array([[  1. , 230.1,  37.8,  69.2],\n",
       "       [  2. ,  44.5,  39.3,  45.1],\n",
       "       [  3. ,  17.2,  45.9,  69.3],\n",
       "       [  4. , 151.5,  41.3,  58.5],\n",
       "       [  5. , 180.8,  10.8,  58.4],\n",
       "       [  6. ,   8.7,  48.9,  75. ],\n",
       "       [  7. ,  57.5,  32.8,  23.5],\n",
       "       [  8. , 120.2,  19.6,  11.6],\n",
       "       [  9. ,   8.6,   2.1,   1. ],\n",
       "       [ 10. , 199.8,   2.6,  21.2],\n",
       "       [ 11. ,  66.1,   5.8,  24.2],\n",
       "       [ 12. , 214.7,  24. ,   4. ],\n",
       "       [ 13. ,  23.8,  35.1,  65.9],\n",
       "       [ 14. ,  97.5,   7.6,   7.2],\n",
       "       [ 15. , 204.1,  32.9,  46. ],\n",
       "       [ 16. , 195.4,  47.7,  52.9],\n",
       "       [ 17. ,  67.8,  36.6, 114. ],\n",
       "       [ 18. , 281.4,  39.6,  55.8],\n",
       "       [ 19. ,  69.2,  20.5,  18.3],\n",
       "       [ 20. , 147.3,  23.9,  19.1],\n",
       "       [ 21. , 218.4,  27.7,  53.4],\n",
       "       [ 22. , 237.4,   5.1,  23.5],\n",
       "       [ 23. ,  13.2,  15.9,  49.6],\n",
       "       [ 24. , 228.3,  16.9,  26.2],\n",
       "       [ 25. ,  62.3,  12.6,  18.3],\n",
       "       [ 26. , 262.9,   3.5,  19.5],\n",
       "       [ 27. , 142.9,  29.3,  12.6],\n",
       "       [ 28. , 240.1,  16.7,  22.9],\n",
       "       [ 29. , 248.8,  27.1,  22.9],\n",
       "       [ 30. ,  70.6,  16. ,  40.8],\n",
       "       [ 31. , 292.9,  28.3,  43.2],\n",
       "       [ 32. , 112.9,  17.4,  38.6],\n",
       "       [ 33. ,  97.2,   1.5,  30. ],\n",
       "       [ 34. , 265.6,  20. ,   0.3],\n",
       "       [ 35. ,  95.7,   1.4,   7.4],\n",
       "       [ 36. , 290.7,   4.1,   8.5],\n",
       "       [ 37. , 266.9,  43.8,   5. ],\n",
       "       [ 38. ,  74.7,  49.4,  45.7],\n",
       "       [ 39. ,  43.1,  26.7,  35.1],\n",
       "       [ 40. , 228. ,  37.7,  32. ],\n",
       "       [ 41. , 202.5,  22.3,  31.6],\n",
       "       [ 42. , 177. ,  33.4,  38.7],\n",
       "       [ 43. , 293.6,  27.7,   1.8],\n",
       "       [ 44. , 206.9,   8.4,  26.4],\n",
       "       [ 45. ,  25.1,  25.7,  43.3],\n",
       "       [ 46. , 175.1,  22.5,  31.5],\n",
       "       [ 47. ,  89.7,   9.9,  35.7],\n",
       "       [ 48. , 239.9,  41.5,  18.5],\n",
       "       [ 49. , 227.2,  15.8,  49.9],\n",
       "       [ 50. ,  66.9,  11.7,  36.8],\n",
       "       [ 51. , 199.8,   3.1,  34.6],\n",
       "       [ 52. , 100.4,   9.6,   3.6],\n",
       "       [ 53. , 216.4,  41.7,  39.6],\n",
       "       [ 54. , 182.6,  46.2,  58.7],\n",
       "       [ 55. , 262.7,  28.8,  15.9],\n",
       "       [ 56. , 198.9,  49.4,  60. ],\n",
       "       [ 57. ,   7.3,  28.1,  41.4],\n",
       "       [ 58. , 136.2,  19.2,  16.6],\n",
       "       [ 59. , 210.8,  49.6,  37.7],\n",
       "       [ 60. , 210.7,  29.5,   9.3],\n",
       "       [ 61. ,  53.5,   2. ,  21.4],\n",
       "       [ 62. , 261.3,  42.7,  54.7],\n",
       "       [ 63. , 239.3,  15.5,  27.3],\n",
       "       [ 64. , 102.7,  29.6,   8.4],\n",
       "       [ 65. , 131.1,  42.8,  28.9],\n",
       "       [ 66. ,  69. ,   9.3,   0.9],\n",
       "       [ 67. ,  31.5,  24.6,   2.2],\n",
       "       [ 68. , 139.3,  14.5,  10.2],\n",
       "       [ 69. , 237.4,  27.5,  11. ],\n",
       "       [ 70. , 216.8,  43.9,  27.2],\n",
       "       [ 71. , 199.1,  30.6,  38.7],\n",
       "       [ 72. , 109.8,  14.3,  31.7],\n",
       "       [ 73. ,  26.8,  33. ,  19.3],\n",
       "       [ 74. , 129.4,   5.7,  31.3],\n",
       "       [ 75. , 213.4,  24.6,  13.1],\n",
       "       [ 76. ,  16.9,  43.7,  89.4],\n",
       "       [ 77. ,  27.5,   1.6,  20.7],\n",
       "       [ 78. , 120.5,  28.5,  14.2],\n",
       "       [ 79. ,   5.4,  29.9,   9.4],\n",
       "       [ 80. , 116. ,   7.7,  23.1],\n",
       "       [ 81. ,  76.4,  26.7,  22.3],\n",
       "       [ 82. , 239.8,   4.1,  36.9],\n",
       "       [ 83. ,  75.3,  20.3,  32.5],\n",
       "       [ 84. ,  68.4,  44.5,  35.6],\n",
       "       [ 85. , 213.5,  43. ,  33.8],\n",
       "       [ 86. , 193.2,  18.4,  65.7],\n",
       "       [ 87. ,  76.3,  27.5,  16. ],\n",
       "       [ 88. , 110.7,  40.6,  63.2],\n",
       "       [ 89. ,  88.3,  25.5,  73.4],\n",
       "       [ 90. , 109.8,  47.8,  51.4],\n",
       "       [ 91. , 134.3,   4.9,   9.3],\n",
       "       [ 92. ,  28.6,   1.5,  33. ],\n",
       "       [ 93. , 217.7,  33.5,  59. ],\n",
       "       [ 94. , 250.9,  36.5,  72.3],\n",
       "       [ 95. , 107.4,  14. ,  10.9],\n",
       "       [ 96. , 163.3,  31.6,  52.9],\n",
       "       [ 97. , 197.6,   3.5,   5.9],\n",
       "       [ 98. , 184.9,  21. ,  22. ],\n",
       "       [ 99. , 289.7,  42.3,  51.2],\n",
       "       [100. , 135.2,  41.7,  45.9],\n",
       "       [101. , 222.4,   4.3,  49.8],\n",
       "       [102. , 296.4,  36.3, 100.9],\n",
       "       [103. , 280.2,  10.1,  21.4],\n",
       "       [104. , 187.9,  17.2,  17.9],\n",
       "       [105. , 238.2,  34.3,   5.3],\n",
       "       [106. , 137.9,  46.4,  59. ],\n",
       "       [107. ,  25. ,  11. ,  29.7],\n",
       "       [108. ,  90.4,   0.3,  23.2],\n",
       "       [109. ,  13.1,   0.4,  25.6],\n",
       "       [110. , 255.4,  26.9,   5.5],\n",
       "       [111. , 225.8,   8.2,  56.5],\n",
       "       [112. , 241.7,  38. ,  23.2],\n",
       "       [113. , 175.7,  15.4,   2.4],\n",
       "       [114. , 209.6,  20.6,  10.7],\n",
       "       [115. ,  78.2,  46.8,  34.5],\n",
       "       [116. ,  75.1,  35. ,  52.7],\n",
       "       [117. , 139.2,  14.3,  25.6],\n",
       "       [118. ,  76.4,   0.8,  14.8],\n",
       "       [119. , 125.7,  36.9,  79.2],\n",
       "       [120. ,  19.4,  16. ,  22.3],\n",
       "       [121. , 141.3,  26.8,  46.2],\n",
       "       [122. ,  18.8,  21.7,  50.4],\n",
       "       [123. , 224. ,   2.4,  15.6],\n",
       "       [124. , 123.1,  34.6,  12.4],\n",
       "       [125. , 229.5,  32.3,  74.2],\n",
       "       [126. ,  87.2,  11.8,  25.9],\n",
       "       [127. ,   7.8,  38.9,  50.6],\n",
       "       [128. ,  80.2,   0. ,   9.2],\n",
       "       [129. , 220.3,  49. ,   3.2],\n",
       "       [130. ,  59.6,  12. ,  43.1],\n",
       "       [131. ,   0.7,  39.6,   8.7],\n",
       "       [132. , 265.2,   2.9,  43. ],\n",
       "       [133. ,   8.4,  27.2,   2.1],\n",
       "       [134. , 219.8,  33.5,  45.1],\n",
       "       [135. ,  36.9,  38.6,  65.6],\n",
       "       [136. ,  48.3,  47. ,   8.5],\n",
       "       [137. ,  25.6,  39. ,   9.3],\n",
       "       [138. , 273.7,  28.9,  59.7],\n",
       "       [139. ,  43. ,  25.9,  20.5],\n",
       "       [140. , 184.9,  43.9,   1.7],\n",
       "       [141. ,  73.4,  17. ,  12.9],\n",
       "       [142. , 193.7,  35.4,  75.6],\n",
       "       [143. , 220.5,  33.2,  37.9],\n",
       "       [144. , 104.6,   5.7,  34.4],\n",
       "       [145. ,  96.2,  14.8,  38.9],\n",
       "       [146. , 140.3,   1.9,   9. ],\n",
       "       [147. , 240.1,   7.3,   8.7],\n",
       "       [148. , 243.2,  49. ,  44.3],\n",
       "       [149. ,  38. ,  40.3,  11.9],\n",
       "       [150. ,  44.7,  25.8,  20.6],\n",
       "       [151. , 280.7,  13.9,  37. ],\n",
       "       [152. , 121. ,   8.4,  48.7],\n",
       "       [153. , 197.6,  23.3,  14.2],\n",
       "       [154. , 171.3,  39.7,  37.7],\n",
       "       [155. , 187.8,  21.1,   9.5],\n",
       "       [156. ,   4.1,  11.6,   5.7],\n",
       "       [157. ,  93.9,  43.5,  50.5],\n",
       "       [158. , 149.8,   1.3,  24.3],\n",
       "       [159. ,  11.7,  36.9,  45.2],\n",
       "       [160. , 131.7,  18.4,  34.6],\n",
       "       [161. , 172.5,  18.1,  30.7],\n",
       "       [162. ,  85.7,  35.8,  49.3],\n",
       "       [163. , 188.4,  18.1,  25.6],\n",
       "       [164. , 163.5,  36.8,   7.4],\n",
       "       [165. , 117.2,  14.7,   5.4],\n",
       "       [166. , 234.5,   3.4,  84.8],\n",
       "       [167. ,  17.9,  37.6,  21.6],\n",
       "       [168. , 206.8,   5.2,  19.4],\n",
       "       [169. , 215.4,  23.6,  57.6],\n",
       "       [170. , 284.3,  10.6,   6.4],\n",
       "       [171. ,  50. ,  11.6,  18.4],\n",
       "       [172. , 164.5,  20.9,  47.4],\n",
       "       [173. ,  19.6,  20.1,  17. ],\n",
       "       [174. , 168.4,   7.1,  12.8],\n",
       "       [175. , 222.4,   3.4,  13.1],\n",
       "       [176. , 276.9,  48.9,  41.8],\n",
       "       [177. , 248.4,  30.2,  20.3],\n",
       "       [178. , 170.2,   7.8,  35.2],\n",
       "       [179. , 276.7,   2.3,  23.7],\n",
       "       [180. , 165.6,  10. ,  17.6],\n",
       "       [181. , 156.6,   2.6,   8.3],\n",
       "       [182. , 218.5,   5.4,  27.4],\n",
       "       [183. ,  56.2,   5.7,  29.7],\n",
       "       [184. , 287.6,  43. ,  71.8],\n",
       "       [185. , 253.8,  21.3,  30. ],\n",
       "       [186. , 205. ,  45.1,  19.6],\n",
       "       [187. , 139.5,   2.1,  26.6],\n",
       "       [188. , 191.1,  28.7,  18.2],\n",
       "       [189. , 286. ,  13.9,   3.7],\n",
       "       [190. ,  18.7,  12.1,  23.4],\n",
       "       [191. ,  39.5,  41.1,   5.8],\n",
       "       [192. ,  75.5,  10.8,   6. ],\n",
       "       [193. ,  17.2,   4.1,  31.6],\n",
       "       [194. , 166.8,  42. ,   3.6],\n",
       "       [195. , 149.7,  35.6,   6. ],\n",
       "       [196. ,  38.2,   3.7,  13.8],\n",
       "       [197. ,  94.2,   4.9,   8.1],\n",
       "       [198. , 177. ,   9.3,   6.4],\n",
       "       [199. , 283.6,  42. ,  66.2],\n",
       "       [200. , 232.1,   8.6,   8.7]])"
      ]
     },
     "execution_count": 18,
     "metadata": {},
     "output_type": "execute_result"
    }
   ],
   "source": [
    "X"
   ]
  },
  {
   "cell_type": "code",
   "execution_count": 19,
   "id": "ca0f5ea3-c889-4a07-b4f7-661e9fac7276",
   "metadata": {},
   "outputs": [],
   "source": [
    "y = dataset.iloc[:,-1].values"
   ]
  },
  {
   "cell_type": "code",
   "execution_count": 20,
   "id": "69d5b225-52cf-42e4-afd5-cd0a716d45d8",
   "metadata": {},
   "outputs": [
    {
     "data": {
      "text/plain": [
       "(200,)"
      ]
     },
     "execution_count": 20,
     "metadata": {},
     "output_type": "execute_result"
    }
   ],
   "source": [
    "y.shape"
   ]
  },
  {
   "cell_type": "markdown",
   "id": "38ade08c-2223-4046-8600-1a9aee538e87",
   "metadata": {
    "jp-MarkdownHeadingCollapsed": true
   },
   "source": [
    "## Train_test_split\n",
    "The code below splits the data into 80% training and 20% testing which is a standard prac\n",
    "tice to evaluate the model's ability"
   ]
  },
  {
   "cell_type": "code",
   "execution_count": 21,
   "id": "cfd92ab6-3cfc-4f55-a81b-20893156a75b",
   "metadata": {},
   "outputs": [],
   "source": [
    "X_train, X_test, y_train, y_test = train_test_split(X,y, test_size = 0.2 , random_state = 0)"
   ]
  },
  {
   "cell_type": "markdown",
   "id": "96474cdd-75b9-43ff-b68c-c37afb68c54d",
   "metadata": {
    "jp-MarkdownHeadingCollapsed": true
   },
   "source": [
    "## Using Linear Regression\n",
    "Since, the goal of this project is to predict a continous target variable lets says  **sales** based on input features **TV, Radio and Newspaper advertising** linear regression would be appropriate approach.\n",
    "Linear regression is a statistical method used for regression tasks where the target varibale is numerical(sales).\n",
    "\n",
    "In the dataset I have taken we are suppose to predict sales based on advertising spending. This depicts a linear relationship. To give an example, if advertising spending on TV increase, it is likely that sales will also increase, making a linear model appropriate.\n",
    "\n",
    "Furthermore, linear regression is simple to implement and efficient. Dataset appears to have a reasonable structure for such a model, it is a good choice for a baseline predictive model."
   ]
  },
  {
   "cell_type": "code",
   "execution_count": 22,
   "id": "ec35a61e-14f9-4f57-a230-6df7492700cf",
   "metadata": {},
   "outputs": [],
   "source": [
    "model = LinearRegression()"
   ]
  },
  {
   "cell_type": "code",
   "execution_count": 23,
   "id": "2c25f35e-0dc5-4f0e-915a-df41c1a631d5",
   "metadata": {},
   "outputs": [
    {
     "data": {
      "text/html": [
       "<style>#sk-container-id-1 {color: black;background-color: white;}#sk-container-id-1 pre{padding: 0;}#sk-container-id-1 div.sk-toggleable {background-color: white;}#sk-container-id-1 label.sk-toggleable__label {cursor: pointer;display: block;width: 100%;margin-bottom: 0;padding: 0.3em;box-sizing: border-box;text-align: center;}#sk-container-id-1 label.sk-toggleable__label-arrow:before {content: \"▸\";float: left;margin-right: 0.25em;color: #696969;}#sk-container-id-1 label.sk-toggleable__label-arrow:hover:before {color: black;}#sk-container-id-1 div.sk-estimator:hover label.sk-toggleable__label-arrow:before {color: black;}#sk-container-id-1 div.sk-toggleable__content {max-height: 0;max-width: 0;overflow: hidden;text-align: left;background-color: #f0f8ff;}#sk-container-id-1 div.sk-toggleable__content pre {margin: 0.2em;color: black;border-radius: 0.25em;background-color: #f0f8ff;}#sk-container-id-1 input.sk-toggleable__control:checked~div.sk-toggleable__content {max-height: 200px;max-width: 100%;overflow: auto;}#sk-container-id-1 input.sk-toggleable__control:checked~label.sk-toggleable__label-arrow:before {content: \"▾\";}#sk-container-id-1 div.sk-estimator input.sk-toggleable__control:checked~label.sk-toggleable__label {background-color: #d4ebff;}#sk-container-id-1 div.sk-label input.sk-toggleable__control:checked~label.sk-toggleable__label {background-color: #d4ebff;}#sk-container-id-1 input.sk-hidden--visually {border: 0;clip: rect(1px 1px 1px 1px);clip: rect(1px, 1px, 1px, 1px);height: 1px;margin: -1px;overflow: hidden;padding: 0;position: absolute;width: 1px;}#sk-container-id-1 div.sk-estimator {font-family: monospace;background-color: #f0f8ff;border: 1px dotted black;border-radius: 0.25em;box-sizing: border-box;margin-bottom: 0.5em;}#sk-container-id-1 div.sk-estimator:hover {background-color: #d4ebff;}#sk-container-id-1 div.sk-parallel-item::after {content: \"\";width: 100%;border-bottom: 1px solid gray;flex-grow: 1;}#sk-container-id-1 div.sk-label:hover label.sk-toggleable__label {background-color: #d4ebff;}#sk-container-id-1 div.sk-serial::before {content: \"\";position: absolute;border-left: 1px solid gray;box-sizing: border-box;top: 0;bottom: 0;left: 50%;z-index: 0;}#sk-container-id-1 div.sk-serial {display: flex;flex-direction: column;align-items: center;background-color: white;padding-right: 0.2em;padding-left: 0.2em;position: relative;}#sk-container-id-1 div.sk-item {position: relative;z-index: 1;}#sk-container-id-1 div.sk-parallel {display: flex;align-items: stretch;justify-content: center;background-color: white;position: relative;}#sk-container-id-1 div.sk-item::before, #sk-container-id-1 div.sk-parallel-item::before {content: \"\";position: absolute;border-left: 1px solid gray;box-sizing: border-box;top: 0;bottom: 0;left: 50%;z-index: -1;}#sk-container-id-1 div.sk-parallel-item {display: flex;flex-direction: column;z-index: 1;position: relative;background-color: white;}#sk-container-id-1 div.sk-parallel-item:first-child::after {align-self: flex-end;width: 50%;}#sk-container-id-1 div.sk-parallel-item:last-child::after {align-self: flex-start;width: 50%;}#sk-container-id-1 div.sk-parallel-item:only-child::after {width: 0;}#sk-container-id-1 div.sk-dashed-wrapped {border: 1px dashed gray;margin: 0 0.4em 0.5em 0.4em;box-sizing: border-box;padding-bottom: 0.4em;background-color: white;}#sk-container-id-1 div.sk-label label {font-family: monospace;font-weight: bold;display: inline-block;line-height: 1.2em;}#sk-container-id-1 div.sk-label-container {text-align: center;}#sk-container-id-1 div.sk-container {/* jupyter's `normalize.less` sets `[hidden] { display: none; }` but bootstrap.min.css set `[hidden] { display: none !important; }` so we also need the `!important` here to be able to override the default hidden behavior on the sphinx rendered scikit-learn.org. See: https://github.com/scikit-learn/scikit-learn/issues/21755 */display: inline-block !important;position: relative;}#sk-container-id-1 div.sk-text-repr-fallback {display: none;}</style><div id=\"sk-container-id-1\" class=\"sk-top-container\"><div class=\"sk-text-repr-fallback\"><pre>LinearRegression()</pre><b>In a Jupyter environment, please rerun this cell to show the HTML representation or trust the notebook. <br />On GitHub, the HTML representation is unable to render, please try loading this page with nbviewer.org.</b></div><div class=\"sk-container\" hidden><div class=\"sk-item\"><div class=\"sk-estimator sk-toggleable\"><input class=\"sk-toggleable__control sk-hidden--visually\" id=\"sk-estimator-id-1\" type=\"checkbox\" checked><label for=\"sk-estimator-id-1\" class=\"sk-toggleable__label sk-toggleable__label-arrow\">LinearRegression</label><div class=\"sk-toggleable__content\"><pre>LinearRegression()</pre></div></div></div></div></div>"
      ],
      "text/plain": [
       "LinearRegression()"
      ]
     },
     "execution_count": 23,
     "metadata": {},
     "output_type": "execute_result"
    }
   ],
   "source": [
    "model.fit(X_train,y_train)"
   ]
  },
  {
   "cell_type": "code",
   "execution_count": 24,
   "id": "37247957-9c0a-405f-9c24-8a1a66de6133",
   "metadata": {},
   "outputs": [],
   "source": [
    "y_pred = model.predict(X_test)"
   ]
  },
  {
   "cell_type": "code",
   "execution_count": 25,
   "id": "b504af5a-acd0-43fb-82c2-f898fd9a13e9",
   "metadata": {},
   "outputs": [
    {
     "data": {
      "text/plain": [
       "array([10.24664397,  7.3067958 ,  7.01313011, 24.0629912 , 11.84538583,\n",
       "        6.3623126 , 12.97367539, 15.01392577, 10.95137181, 16.2302401 ,\n",
       "       22.94764396,  9.07892877, 10.29830431, 15.372556  , 11.63358138,\n",
       "       12.38729183, 18.91996453, 10.72601207, 16.03372676, 17.36589369,\n",
       "       23.85225051,  9.51048184, 15.25366204, 12.2528663 ,  5.81346738,\n",
       "       15.19998588, 12.12398331, 20.74762723, 13.36651757,  9.16548788,\n",
       "       13.0430809 , 21.47977498, 18.01828076, 21.14170908,  6.74096317,\n",
       "        5.9527019 ,  7.82515133, 13.21661502, 14.72150697,  6.18172688])"
      ]
     },
     "execution_count": 25,
     "metadata": {},
     "output_type": "execute_result"
    }
   ],
   "source": [
    "y_pred"
   ]
  },
  {
   "cell_type": "code",
   "execution_count": 26,
   "id": "dd073b74-9d6e-41ef-b9e5-edade2be3b16",
   "metadata": {},
   "outputs": [
    {
     "data": {
      "image/png": "[encoded data removed]",
      "text/plain": [
       "<Figure size 640x480 with 1 Axes>"
      ]
     },
     "metadata": {},
     "output_type": "display_data"
    }
   ],
   "source": [
    "plt.scatter(y_test, y_pred, color='blue', alpha=0.6)\n",
    "plt.plot([y_test.min(), y_test.max()], [y_test.min(), y_test.max()], 'r--', linewidth=2)  # 45° line\n",
    "plt.xlabel(\"Actual Values\")\n",
    "plt.ylabel(\"Predicted Values\")\n",
    "plt.title(\"Actual vs Predicted Values\")\n",
    "plt.show()"
   ]
  },
  {
   "cell_type": "markdown",
   "id": "1b7bb3be-5c2e-4632-9661-6f234fd75436",
   "metadata": {},
   "source": [
    "## Model evaluation\n",
    "**MSE** measures the average squared difference between actual and predicted values (lower is better).\n",
    "\n",
    "Formula:\n",
    "            $MSE = \\frac{1}{n} \\sum_{i=1}^n (y_i - \\hat{y}_i)^2$\n",
    "\n",
    " Where:\n",
    "\n",
    "- $n$ is the number of data points (samples),\n",
    "- $y_i$ is the actual value (ground truth) for the $i$-th observation,\n",
    "- $\\hat{y}_i$ is the predicted value for the $i$-th observation.\n",
    "\n",
    "**R-squared** gives an indication of how well the model explains the variance in the target variable (Sales), with values closer to 1 indicating better fit.\n",
    "\n",
    "Formula:\n",
    "             $R^2 = 1 - \\frac{\\sum_{i=1}^{n}(y_i - \\hat{y_i})^2}{\\sum_{i=1}^{n}(y_i - \\bar{y})^2}$\n",
    "             \n",
    "Where:\n",
    "\n",
    "-$n$ is the number of data points,\n",
    "-$y_i$ is the actual value for the $i$-th observation,\n",
    "-$\\hat{y_i}$ is the predicted value for the $i$-th observation,\n",
    "-$\\bar{y}$ is the mean of the actual values ($\\bar{y} = \\frac{1}{n}\\sum_{i=1}^{n}y_i$).\n",
    "\n",
    "Interpretation of $R^2$:\n",
    "\n",
    "-$R^2 = 1$: The model perfectly explains the variance in the data.\n",
    "-$R^2 = 0$: The model does not explain any of the variance, meaning it performs no better than                      just predicting the mean of the target variable.\n",
    "-$R^2 < 0$: The model performs worse than simply predicting the mean.\n",
    "\n",
    "\n",
    "**RMSE** The Root Mean Squared Error (RMSE) is one of the two main performance indicators for a regression model. It measures the average difference between values predicted by a model and the actual values.\n",
    "Formula:\n",
    "              $RMSE = \\sqrt{MSE} = \\sqrt{\\frac{1}{n}\\sum_{i=1}^{n}(y_i - \\hat{y_i})^2}$\n",
    "\n",
    "Where:\n",
    "\n",
    "- $MSE$ is the Mean Squared Error (as defined above),\n",
    "- The square root is applied to bring the error back into the original units of the target variable.\n",
    "\n"
   ]
  },
  {
   "cell_type": "code",
   "execution_count": 27,
   "id": "cd09df76-43b6-47e9-9b38-e47fdb50d10f",
   "metadata": {},
   "outputs": [],
   "source": [
    "mae = metrics.mean_absolute_error(y_pred,y_test)\n",
    "rmse = np.sqrt(metrics.mean_squared_error(y_pred,y_test))\n",
    "r2 = metrics.r2_score(y_pred,y_test)"
   ]
  },
  {
   "cell_type": "code",
   "execution_count": 28,
   "id": "b6cd67da-f69f-45be-93f4-cabf9d6d043c",
   "metadata": {},
   "outputs": [
    {
     "name": "stdout",
     "output_type": "stream",
     "text": [
      "Mean Absolute Error (MAE):1.4158480868317491\n",
      "Root Mean Absolute Error (RMSE):2.1252030072958723\n",
      "R-squared (R²): 0.8283777385812963\n"
     ]
    }
   ],
   "source": [
    "print(f\"Mean Absolute Error (MAE):{mae}\")\n",
    "print(f\"Root Mean Absolute Error (RMSE):{rmse}\")\n",
    "print(f\"R-squared (R²): {r2}\")"
   ]
  },
  {
   "cell_type": "markdown",
   "id": "52191fbc-3b81-42af-8751-34e7a2852b87",
   "metadata": {},
   "source": [
    "## Part 2"
   ]
  },
  {
   "cell_type": "markdown",
   "id": "cf094b61-2290-4dcf-b839-27dc66e6807e",
   "metadata": {
    "jp-MarkdownHeadingCollapsed": true
   },
   "source": [
    "## Applying marginal likelihood estimation in Sales forecasting\n",
    "In this task, you're using Bayesian Ridge Regression to perform regression analysis, which involves predicting continuous values based on input data.\n",
    "\n"
   ]
  },
  {
   "cell_type": "code",
   "execution_count": 30,
   "id": "4e5c4eb3-8178-4f99-aef9-56ba07c9c83d",
   "metadata": {},
   "outputs": [],
   "source": [
    "from sklearn.linear_model import BayesianRidge"
   ]
  },
  {
   "cell_type": "markdown",
   "id": "82709d49-c202-40a3-8fda-ca53cb94ad91",
   "metadata": {
    "jp-MarkdownHeadingCollapsed": true
   },
   "source": [
    "## Model initialization and training\n",
    "Bayesian Ridge Regression is a type of linear regression that models uncertainty by incorporating a probabilistic approach. Instead of providing a single prediction, it estimates the mean and variance of the predicted values, capturing the uncertainty of those predictions.\n",
    "\n",
    "The model is trained using the training data (X_train, y_train). This means it learns the relationship between the features (inputs) and the target variable (output) in a probabilistic sense, accounting for both the data and the prior distributions on the parameters.\n"
   ]
  },
  {
   "cell_type": "code",
   "execution_count": 31,
   "id": "046cc18c-2f20-4fe5-ab60-601bc8077501",
   "metadata": {},
   "outputs": [
    {
     "data": {
      "text/html": [
       "<style>#sk-container-id-2 {color: black;background-color: white;}#sk-container-id-2 pre{padding: 0;}#sk-container-id-2 div.sk-toggleable {background-color: white;}#sk-container-id-2 label.sk-toggleable__label {cursor: pointer;display: block;width: 100%;margin-bottom: 0;padding: 0.3em;box-sizing: border-box;text-align: center;}#sk-container-id-2 label.sk-toggleable__label-arrow:before {content: \"▸\";float: left;margin-right: 0.25em;color: #696969;}#sk-container-id-2 label.sk-toggleable__label-arrow:hover:before {color: black;}#sk-container-id-2 div.sk-estimator:hover label.sk-toggleable__label-arrow:before {color: black;}#sk-container-id-2 div.sk-toggleable__content {max-height: 0;max-width: 0;overflow: hidden;text-align: left;background-color: #f0f8ff;}#sk-container-id-2 div.sk-toggleable__content pre {margin: 0.2em;color: black;border-radius: 0.25em;background-color: #f0f8ff;}#sk-container-id-2 input.sk-toggleable__control:checked~div.sk-toggleable__content {max-height: 200px;max-width: 100%;overflow: auto;}#sk-container-id-2 input.sk-toggleable__control:checked~label.sk-toggleable__label-arrow:before {content: \"▾\";}#sk-container-id-2 div.sk-estimator input.sk-toggleable__control:checked~label.sk-toggleable__label {background-color: #d4ebff;}#sk-container-id-2 div.sk-label input.sk-toggleable__control:checked~label.sk-toggleable__label {background-color: #d4ebff;}#sk-container-id-2 input.sk-hidden--visually {border: 0;clip: rect(1px 1px 1px 1px);clip: rect(1px, 1px, 1px, 1px);height: 1px;margin: -1px;overflow: hidden;padding: 0;position: absolute;width: 1px;}#sk-container-id-2 div.sk-estimator {font-family: monospace;background-color: #f0f8ff;border: 1px dotted black;border-radius: 0.25em;box-sizing: border-box;margin-bottom: 0.5em;}#sk-container-id-2 div.sk-estimator:hover {background-color: #d4ebff;}#sk-container-id-2 div.sk-parallel-item::after {content: \"\";width: 100%;border-bottom: 1px solid gray;flex-grow: 1;}#sk-container-id-2 div.sk-label:hover label.sk-toggleable__label {background-color: #d4ebff;}#sk-container-id-2 div.sk-serial::before {content: \"\";position: absolute;border-left: 1px solid gray;box-sizing: border-box;top: 0;bottom: 0;left: 50%;z-index: 0;}#sk-container-id-2 div.sk-serial {display: flex;flex-direction: column;align-items: center;background-color: white;padding-right: 0.2em;padding-left: 0.2em;position: relative;}#sk-container-id-2 div.sk-item {position: relative;z-index: 1;}#sk-container-id-2 div.sk-parallel {display: flex;align-items: stretch;justify-content: center;background-color: white;position: relative;}#sk-container-id-2 div.sk-item::before, #sk-container-id-2 div.sk-parallel-item::before {content: \"\";position: absolute;border-left: 1px solid gray;box-sizing: border-box;top: 0;bottom: 0;left: 50%;z-index: -1;}#sk-container-id-2 div.sk-parallel-item {display: flex;flex-direction: column;z-index: 1;position: relative;background-color: white;}#sk-container-id-2 div.sk-parallel-item:first-child::after {align-self: flex-end;width: 50%;}#sk-container-id-2 div.sk-parallel-item:last-child::after {align-self: flex-start;width: 50%;}#sk-container-id-2 div.sk-parallel-item:only-child::after {width: 0;}#sk-container-id-2 div.sk-dashed-wrapped {border: 1px dashed gray;margin: 0 0.4em 0.5em 0.4em;box-sizing: border-box;padding-bottom: 0.4em;background-color: white;}#sk-container-id-2 div.sk-label label {font-family: monospace;font-weight: bold;display: inline-block;line-height: 1.2em;}#sk-container-id-2 div.sk-label-container {text-align: center;}#sk-container-id-2 div.sk-container {/* jupyter's `normalize.less` sets `[hidden] { display: none; }` but bootstrap.min.css set `[hidden] { display: none !important; }` so we also need the `!important` here to be able to override the default hidden behavior on the sphinx rendered scikit-learn.org. See: https://github.com/scikit-learn/scikit-learn/issues/21755 */display: inline-block !important;position: relative;}#sk-container-id-2 div.sk-text-repr-fallback {display: none;}</style><div id=\"sk-container-id-2\" class=\"sk-top-container\"><div class=\"sk-text-repr-fallback\"><pre>BayesianRidge()</pre><b>In a Jupyter environment, please rerun this cell to show the HTML representation or trust the notebook. <br />On GitHub, the HTML representation is unable to render, please try loading this page with nbviewer.org.</b></div><div class=\"sk-container\" hidden><div class=\"sk-item\"><div class=\"sk-estimator sk-toggleable\"><input class=\"sk-toggleable__control sk-hidden--visually\" id=\"sk-estimator-id-2\" type=\"checkbox\" checked><label for=\"sk-estimator-id-2\" class=\"sk-toggleable__label sk-toggleable__label-arrow\">BayesianRidge</label><div class=\"sk-toggleable__content\"><pre>BayesianRidge()</pre></div></div></div></div></div>"
      ],
      "text/plain": [
       "BayesianRidge()"
      ]
     },
     "execution_count": 31,
     "metadata": {},
     "output_type": "execute_result"
    }
   ],
   "source": [
    "#Train the Bayesian Ridge model implementing marginal likelihood\n",
    "model = BayesianRidge()\n",
    "model.fit(X_train,y_train)"
   ]
  },
  {
   "cell_type": "markdown",
   "id": "f642209f-f78b-4d0b-a406-d6cca5eb2fe1",
   "metadata": {
    "jp-MarkdownHeadingCollapsed": true
   },
   "source": [
    "## Making prediction\n",
    "Once the model is trained, it can be used to predict values for new, unseen data (X_test). In Bayesian Ridge Regression, this doesn't just give you a single predicted value but gives you a mean (central tendency) of the predicted value based on the model's learned distribution.\n"
   ]
  },
  {
   "cell_type": "code",
   "execution_count": 64,
   "id": "9d6bfd4b-31fd-4bbb-93f7-35be0cee51b5",
   "metadata": {},
   "outputs": [],
   "source": [
    "y_predictions = model.predict(X_test)\n",
    "y_prediction_mean = y_predictions"
   ]
  },
  {
   "cell_type": "markdown",
   "id": "7b0e9322-f202-478a-9a63-63b2d3fca6d1",
   "metadata": {
    "jp-MarkdownHeadingCollapsed": true
   },
   "source": [
    "## Prediction Uncertainty\n",
    "Variance represents the uncertainty or confidence in the predictions. model.sigma_ holds the variance values for the predictions. A high variance means the model is less confident about the prediction, while a low variance indicates higher confidence.\n",
    "\n",
    "The Bayesian framework estimates this variance based on the data's characteristics and the model's assumptions about the underlying distribution of the data."
   ]
  },
  {
   "cell_type": "code",
   "execution_count": 60,
   "id": "cde1a9f9-4c38-4fc7-a303-aa04a728f684",
   "metadata": {},
   "outputs": [],
   "source": [
    "y_prediction_variance = model.sigma_"
   ]
  },
  {
   "cell_type": "code",
   "execution_count": 66,
   "id": "fa48723b-ce01-44cb-87b2-35415e966ea9",
   "metadata": {},
   "outputs": [
    {
     "name": "stdout",
     "output_type": "stream",
     "text": [
      "Predicted values (Mean): [10.2483059   7.32102025  7.04681717 24.04010354 11.87044579  6.38951741\n",
      " 12.95205243 15.03010943 10.94770757 16.22387675 22.9259401   9.0956266\n",
      " 10.32196039 15.36799113 11.62643361 12.38767662 18.91435194 10.69420094\n",
      " 16.00013619 17.3577241  23.83481187  9.53591973 15.25583075 12.26176826\n",
      "  5.84460572 15.17633761 12.13941718 20.70906342 13.39307994  9.16806268\n",
      " 13.05376067 21.4501179  18.03392181 21.11581023  6.76123931  5.96799295\n",
      "  7.84781336 13.24676534 14.6915483   6.20167022]\n",
      "Prediction Uncertainty (Variance): [[ 4.75934432e-06  9.77789558e-08  5.16314174e-07  8.74331169e-07]\n",
      " [ 9.77789558e-08  2.16501080e-06 -1.07258306e-07 -8.98475003e-07]\n",
      " [ 5.16314174e-07 -1.07258306e-07  7.87035381e-05 -1.72436167e-05]\n",
      " [ 8.74331169e-07 -8.98475003e-07 -1.72436167e-05  3.78221169e-05]]\n"
     ]
    }
   ],
   "source": [
    "print(\"Predicted values (Mean):\", y_prediction_mean)\n",
    "print(\"Prediction Uncertainty (Variance):\", y_prediction_variance)"
   ]
  },
  {
   "cell_type": "code",
   "execution_count": null,
   "id": "1f7350ee-2d2a-47e2-bc1d-1c73533894b9",
   "metadata": {},
   "outputs": [],
   "source": []
  }
 ],
 "metadata": {
  "kernelspec": {
   "display_name": "Python 3 (ipykernel)",
   "language": "python",
   "name": "python3"
  },
  "language_info": {
   "codemirror_mode": {
    "name": "ipython",
    "version": 3
   },
   "file_extension": ".py",
   "mimetype": "text/x-python",
   "name": "python",
   "nbconvert_exporter": "python",
   "pygments_lexer": "ipython3",
   "version": "3.11.7"
  }
 },
 "nbformat": 4,
 "nbformat_minor": 5
}
